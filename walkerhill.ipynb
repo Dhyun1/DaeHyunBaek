{
 "cells": [
  {
   "cell_type": "code",
   "execution_count": 1,
   "metadata": {},
   "outputs": [],
   "source": [
    "import os\n",
    "import chromedriver_autoinstaller # chromedriver auto update\n",
    "import importlib # module reload\n",
    "import time\n",
    "import schedule\n",
    "import datetime\n",
    "from selenium import webdriver\n",
    "from selenium.common.exceptions import *\n",
    "from selenium.webdriver.common.by import By\n",
    "from selenium.webdriver.common.keys import Keys\n",
    "from selenium.webdriver.common.action_chains import ActionChains\n",
    "from selenium.webdriver.chrome.options import Options\n",
    "from selenium.webdriver.common.desired_capabilities import DesiredCapabilities\n",
    "from selenium.webdriver.support.ui import Select\n",
    "from selenium.webdriver.support import expected_conditions as EC\n",
    "from selenium.webdriver.support.ui import WebDriverWait\n",
    "from selenium.common.exceptions import *\n",
    "from webdriver_manager.chrome import ChromeDriverManager\n",
    "from global_function import create_logger\n",
    "from global_function import select_value_from_dropdown\n",
    "from global_function import set_driver, page_back, get_weekday, check_alert\n",
    "from reload_module import reload_module"
   ]
  },
  {
   "cell_type": "code",
   "execution_count": 2,
   "metadata": {},
   "outputs": [],
   "source": [
    "reload_module('global_function')\n",
    "import global_function as gf"
   ]
  },
  {
   "cell_type": "code",
   "execution_count": 3,
   "metadata": {},
   "outputs": [],
   "source": [
    "retry_count = 3\n",
    "url = 'https://www.walkerhill.com/kr/'\n",
    "log_name = 'walkerhill'"
   ]
  },
  {
   "cell_type": "code",
   "execution_count": null,
   "metadata": {},
   "outputs": [],
   "source": [
    "class auto_reservation:\n",
    "    def __init__(self, id, pw, Nm):\n",
    "        self.id = id\n",
    "        self.pw = pw\n",
    "        self.Nm = Nm"
   ]
  },
  {
   "cell_type": "code",
   "execution_count": 5,
   "metadata": {},
   "outputs": [],
   "source": [
    "# url 접속 \n",
    "driver = gf.set_driver()\n"
   ]
  },
  {
   "cell_type": "code",
   "execution_count": null,
   "metadata": {},
   "outputs": [],
   "source": [
    "driver.get(url)\n",
    "    # if login 입력창 뜨면; 아래 진행\n"
   ]
  },
  {
   "cell_type": "code",
   "execution_count": 12,
   "metadata": {},
   "outputs": [],
   "source": [
    "el = driver.find_element(By.ID, 'gnb')"
   ]
  },
  {
   "cell_type": "code",
   "execution_count": 17,
   "metadata": {},
   "outputs": [],
   "source": [
    "el1 = el.find_elements(By.CLASS_NAME, 'myinfo.gnbSub.blind')[0]\n",
    "el2 = el1.find_element(By.XPATH, './../a')"
   ]
  },
  {
   "cell_type": "code",
   "execution_count": 21,
   "metadata": {},
   "outputs": [],
   "source": [
    "# el2.click()\n",
    " "
   ]
  },
  {
   "cell_type": "code",
   "execution_count": 22,
   "metadata": {},
   "outputs": [
    {
     "ename": "ElementNotInteractableException",
     "evalue": "Message: element not interactable\n  (Session info: chrome=105.0.5195.127)\nStacktrace:\nBacktrace:\n\tOrdinal0 [0x005ADF13+2219795]\n\tOrdinal0 [0x00542841+1779777]\n\tOrdinal0 [0x00454100+803072]\n\tOrdinal0 [0x00483FB6+999350]\n\tOrdinal0 [0x00479B76+957302]\n\tOrdinal0 [0x0049E7FC+1107964]\n\tOrdinal0 [0x004794B4+955572]\n\tOrdinal0 [0x0049EA14+1108500]\n\tOrdinal0 [0x004AF192+1175954]\n\tOrdinal0 [0x0049E616+1107478]\n\tOrdinal0 [0x00477F89+950153]\n\tOrdinal0 [0x00478F56+954198]\n\tGetHandleVerifier [0x008A2CB2+3040210]\n\tGetHandleVerifier [0x00892BB4+2974420]\n\tGetHandleVerifier [0x00646A0A+565546]\n\tGetHandleVerifier [0x00645680+560544]\n\tOrdinal0 [0x00549A5C+1808988]\n\tOrdinal0 [0x0054E3A8+1827752]\n\tOrdinal0 [0x0054E495+1827989]\n\tOrdinal0 [0x005580A4+1867940]\n\tBaseThreadInitThunk [0x7687FA29+25]\n\tRtlGetAppContainerNamedObjectPath [0x77787B5E+286]\n\tRtlGetAppContainerNamedObjectPath [0x77787B2E+238]\n",
     "output_type": "error",
     "traceback": [
      "\u001b[1;31m---------------------------------------------------------------------------\u001b[0m",
      "\u001b[1;31mElementNotInteractableException\u001b[0m           Traceback (most recent call last)",
      "Cell \u001b[1;32mIn [22], line 1\u001b[0m\n\u001b[1;32m----> 1\u001b[0m \u001b[43mdriver\u001b[49m\u001b[38;5;241;43m.\u001b[39;49m\u001b[43mfind_element\u001b[49m\u001b[43m(\u001b[49m\u001b[43mBy\u001b[49m\u001b[38;5;241;43m.\u001b[39;49m\u001b[43mXPATH\u001b[49m\u001b[43m,\u001b[49m\u001b[43m \u001b[49m\u001b[38;5;124;43m'\u001b[39;49m\u001b[38;5;124;43m//*[@id=\u001b[39;49m\u001b[38;5;124;43m\"\u001b[39;49m\u001b[38;5;124;43mgnb\u001b[39;49m\u001b[38;5;124;43m\"\u001b[39;49m\u001b[38;5;124;43m]/li[6]/a\u001b[39;49m\u001b[38;5;124;43m'\u001b[39;49m\u001b[43m)\u001b[49m\u001b[38;5;241;43m.\u001b[39;49m\u001b[43mclick\u001b[49m\u001b[43m(\u001b[49m\u001b[43m)\u001b[49m\n",
      "File \u001b[1;32mc:\\Users\\monan\\AppData\\Local\\Programs\\Python\\Python39\\lib\\site-packages\\selenium\\webdriver\\remote\\webelement.py:88\u001b[0m, in \u001b[0;36mWebElement.click\u001b[1;34m(self)\u001b[0m\n\u001b[0;32m     86\u001b[0m \u001b[39mdef\u001b[39;00m \u001b[39mclick\u001b[39m(\u001b[39mself\u001b[39m) \u001b[39m-\u001b[39m\u001b[39m>\u001b[39m \u001b[39mNone\u001b[39;00m:\n\u001b[0;32m     87\u001b[0m     \u001b[39m\"\"\"Clicks the element.\"\"\"\u001b[39;00m\n\u001b[1;32m---> 88\u001b[0m     \u001b[39mself\u001b[39;49m\u001b[39m.\u001b[39;49m_execute(Command\u001b[39m.\u001b[39;49mCLICK_ELEMENT)\n",
      "File \u001b[1;32mc:\\Users\\monan\\AppData\\Local\\Programs\\Python\\Python39\\lib\\site-packages\\selenium\\webdriver\\remote\\webelement.py:396\u001b[0m, in \u001b[0;36mWebElement._execute\u001b[1;34m(self, command, params)\u001b[0m\n\u001b[0;32m    394\u001b[0m     params \u001b[39m=\u001b[39m {}\n\u001b[0;32m    395\u001b[0m params[\u001b[39m'\u001b[39m\u001b[39mid\u001b[39m\u001b[39m'\u001b[39m] \u001b[39m=\u001b[39m \u001b[39mself\u001b[39m\u001b[39m.\u001b[39m_id\n\u001b[1;32m--> 396\u001b[0m \u001b[39mreturn\u001b[39;00m \u001b[39mself\u001b[39;49m\u001b[39m.\u001b[39;49m_parent\u001b[39m.\u001b[39;49mexecute(command, params)\n",
      "File \u001b[1;32mc:\\Users\\monan\\AppData\\Local\\Programs\\Python\\Python39\\lib\\site-packages\\selenium\\webdriver\\remote\\webdriver.py:428\u001b[0m, in \u001b[0;36mWebDriver.execute\u001b[1;34m(self, driver_command, params)\u001b[0m\n\u001b[0;32m    426\u001b[0m response \u001b[39m=\u001b[39m \u001b[39mself\u001b[39m\u001b[39m.\u001b[39mcommand_executor\u001b[39m.\u001b[39mexecute(driver_command, params)\n\u001b[0;32m    427\u001b[0m \u001b[39mif\u001b[39;00m response:\n\u001b[1;32m--> 428\u001b[0m     \u001b[39mself\u001b[39;49m\u001b[39m.\u001b[39;49merror_handler\u001b[39m.\u001b[39;49mcheck_response(response)\n\u001b[0;32m    429\u001b[0m     response[\u001b[39m'\u001b[39m\u001b[39mvalue\u001b[39m\u001b[39m'\u001b[39m] \u001b[39m=\u001b[39m \u001b[39mself\u001b[39m\u001b[39m.\u001b[39m_unwrap_value(\n\u001b[0;32m    430\u001b[0m         response\u001b[39m.\u001b[39mget(\u001b[39m'\u001b[39m\u001b[39mvalue\u001b[39m\u001b[39m'\u001b[39m, \u001b[39mNone\u001b[39;00m))\n\u001b[0;32m    431\u001b[0m     \u001b[39mreturn\u001b[39;00m response\n",
      "File \u001b[1;32mc:\\Users\\monan\\AppData\\Local\\Programs\\Python\\Python39\\lib\\site-packages\\selenium\\webdriver\\remote\\errorhandler.py:243\u001b[0m, in \u001b[0;36mErrorHandler.check_response\u001b[1;34m(self, response)\u001b[0m\n\u001b[0;32m    241\u001b[0m         alert_text \u001b[39m=\u001b[39m value[\u001b[39m'\u001b[39m\u001b[39malert\u001b[39m\u001b[39m'\u001b[39m]\u001b[39m.\u001b[39mget(\u001b[39m'\u001b[39m\u001b[39mtext\u001b[39m\u001b[39m'\u001b[39m)\n\u001b[0;32m    242\u001b[0m     \u001b[39mraise\u001b[39;00m exception_class(message, screen, stacktrace, alert_text)  \u001b[39m# type: ignore[call-arg]  # mypy is not smart enough here\u001b[39;00m\n\u001b[1;32m--> 243\u001b[0m \u001b[39mraise\u001b[39;00m exception_class(message, screen, stacktrace)\n",
      "\u001b[1;31mElementNotInteractableException\u001b[0m: Message: element not interactable\n  (Session info: chrome=105.0.5195.127)\nStacktrace:\nBacktrace:\n\tOrdinal0 [0x005ADF13+2219795]\n\tOrdinal0 [0x00542841+1779777]\n\tOrdinal0 [0x00454100+803072]\n\tOrdinal0 [0x00483FB6+999350]\n\tOrdinal0 [0x00479B76+957302]\n\tOrdinal0 [0x0049E7FC+1107964]\n\tOrdinal0 [0x004794B4+955572]\n\tOrdinal0 [0x0049EA14+1108500]\n\tOrdinal0 [0x004AF192+1175954]\n\tOrdinal0 [0x0049E616+1107478]\n\tOrdinal0 [0x00477F89+950153]\n\tOrdinal0 [0x00478F56+954198]\n\tGetHandleVerifier [0x008A2CB2+3040210]\n\tGetHandleVerifier [0x00892BB4+2974420]\n\tGetHandleVerifier [0x00646A0A+565546]\n\tGetHandleVerifier [0x00645680+560544]\n\tOrdinal0 [0x00549A5C+1808988]\n\tOrdinal0 [0x0054E3A8+1827752]\n\tOrdinal0 [0x0054E495+1827989]\n\tOrdinal0 [0x005580A4+1867940]\n\tBaseThreadInitThunk [0x7687FA29+25]\n\tRtlGetAppContainerNamedObjectPath [0x77787B5E+286]\n\tRtlGetAppContainerNamedObjectPath [0x77787B2E+238]\n"
     ]
    }
   ],
   "source": [
    "# driver.find_element(By.XPATH, '//*[@id=\"gnb\"]/li[6]/a').click()\n",
    "driver.execute_script('''var el = return driver.(By.ID, 'gnb');\n",
    "var el2 = ''')"
   ]
  }
 ],
 "metadata": {
  "kernelspec": {
   "display_name": "Python 3.9.6 64-bit",
   "language": "python",
   "name": "python3"
  },
  "language_info": {
   "codemirror_mode": {
    "name": "ipython",
    "version": 3
   },
   "file_extension": ".py",
   "mimetype": "text/x-python",
   "name": "python",
   "nbconvert_exporter": "python",
   "pygments_lexer": "ipython3",
   "version": "3.9.6"
  },
  "orig_nbformat": 4,
  "vscode": {
   "interpreter": {
    "hash": "65e4c1f187154aa0e3c92b09428076a658f7b60f59dbc719fac7a2ddf3dbc071"
   }
  }
 },
 "nbformat": 4,
 "nbformat_minor": 2
}
